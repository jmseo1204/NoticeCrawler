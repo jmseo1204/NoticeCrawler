{
 "cells": [
  {
   "cell_type": "code",
   "execution_count": 29,
   "metadata": {},
   "outputs": [
    {
     "name": "stdout",
     "output_type": "stream",
     "text": [
      "키워드 ['교환학생', '국외파견']로 검색된 게시글은 다음과 같습니다. \n",
      "[교환학생] 2024-08-26 - 2025학년도 1학기 국제협력본부 국외파견교환학생 후보자 추가모집 선발 결과 안내 : https://oia.snu.ac.kr/news/general-outgoing-exchange-program/5431\n",
      "[교환학생] 2024-08-09 - 2025학년도 1학기 국제협력본부 국외파견교환학생 후보자 추가모집 안내 : https://oia.snu.ac.kr/news/general-outgoing-exchange-program/5412\n",
      "\n"
     ]
    },
    {
     "ename": "RuntimeError",
     "evalue": "asyncio.run() cannot be called from a running event loop",
     "output_type": "error",
     "traceback": [
      "\u001b[1;31m---------------------------------------------------------------------------\u001b[0m",
      "\u001b[1;31mRuntimeError\u001b[0m                              Traceback (most recent call last)",
      "Cell \u001b[1;32mIn[29], line 60\u001b[0m\n\u001b[0;32m     58\u001b[0m \u001b[38;5;28mprint\u001b[39m(feed_template)\n\u001b[0;32m     59\u001b[0m \u001b[38;5;28;01mif\u001b[39;00m \u001b[38;5;129;01mnot\u001b[39;00m not_found:\n\u001b[1;32m---> 60\u001b[0m     \u001b[43masyncio\u001b[49m\u001b[38;5;241;43m.\u001b[39;49m\u001b[43mrun\u001b[49m\u001b[43m(\u001b[49m\u001b[43mbot\u001b[49m\u001b[38;5;241;43m.\u001b[39;49m\u001b[43msend_message\u001b[49m\u001b[43m(\u001b[49m\u001b[43mtext\u001b[49m\u001b[38;5;241;43m=\u001b[39;49m\u001b[43mfeed_template\u001b[49m\u001b[43m,\u001b[49m\u001b[43m \u001b[49m\u001b[43mchat_id\u001b[49m\u001b[38;5;241;43m=\u001b[39;49m\u001b[43mCHAT_ID\u001b[49m\u001b[43m)\u001b[49m\u001b[43m)\u001b[49m\n",
      "File \u001b[1;32mc:\\Users\\USER\\AppData\\Local\\Programs\\Python\\Python312\\Lib\\asyncio\\runners.py:190\u001b[0m, in \u001b[0;36mrun\u001b[1;34m(main, debug, loop_factory)\u001b[0m\n\u001b[0;32m    161\u001b[0m \u001b[38;5;250m\u001b[39m\u001b[38;5;124;03m\"\"\"Execute the coroutine and return the result.\u001b[39;00m\n\u001b[0;32m    162\u001b[0m \n\u001b[0;32m    163\u001b[0m \u001b[38;5;124;03mThis function runs the passed coroutine, taking care of\u001b[39;00m\n\u001b[1;32m   (...)\u001b[0m\n\u001b[0;32m    186\u001b[0m \u001b[38;5;124;03m    asyncio.run(main())\u001b[39;00m\n\u001b[0;32m    187\u001b[0m \u001b[38;5;124;03m\"\"\"\u001b[39;00m\n\u001b[0;32m    188\u001b[0m \u001b[38;5;28;01mif\u001b[39;00m events\u001b[38;5;241m.\u001b[39m_get_running_loop() \u001b[38;5;129;01mis\u001b[39;00m \u001b[38;5;129;01mnot\u001b[39;00m \u001b[38;5;28;01mNone\u001b[39;00m:\n\u001b[0;32m    189\u001b[0m     \u001b[38;5;66;03m# fail fast with short traceback\u001b[39;00m\n\u001b[1;32m--> 190\u001b[0m     \u001b[38;5;28;01mraise\u001b[39;00m \u001b[38;5;167;01mRuntimeError\u001b[39;00m(\n\u001b[0;32m    191\u001b[0m         \u001b[38;5;124m\"\u001b[39m\u001b[38;5;124masyncio.run() cannot be called from a running event loop\u001b[39m\u001b[38;5;124m\"\u001b[39m)\n\u001b[0;32m    193\u001b[0m \u001b[38;5;28;01mwith\u001b[39;00m Runner(debug\u001b[38;5;241m=\u001b[39mdebug, loop_factory\u001b[38;5;241m=\u001b[39mloop_factory) \u001b[38;5;28;01mas\u001b[39;00m runner:\n\u001b[0;32m    194\u001b[0m     \u001b[38;5;28;01mreturn\u001b[39;00m runner\u001b[38;5;241m.\u001b[39mrun(main)\n",
      "\u001b[1;31mRuntimeError\u001b[0m: asyncio.run() cannot be called from a running event loop"
     ]
    }
   ],
   "source": [
    "# selenium 4\n",
    "from selenium import webdriver\n",
    "from selenium.webdriver.chrome.service import Service as ChromeService\n",
    "from webdriver_manager.chrome import ChromeDriverManager\n",
    "from selenium.webdriver.common.keys import Keys\n",
    "from selenium.webdriver.common.by import By\n",
    "import telegram\n",
    "import yaml\n",
    "from box import Box\n",
    "import asyncio\n",
    "\n",
    "with open('config.yaml') as f:\n",
    "    conf = Box(yaml.load(f, Loader=yaml.FullLoader))\n",
    "    \n",
    "\n",
    "TOKEN = conf.API_KEY\n",
    "CHAT_ID = conf.CHAT_ID\n",
    "bot = telegram.Bot(token=TOKEN)\n",
    "\n",
    "\n",
    "\n",
    "options = webdriver.ChromeOptions()\n",
    "options.add_argument('headless')\n",
    "options.add_argument('window-size=1920x1080')\n",
    "options.add_argument(\"disable-gpu\")\n",
    "driver = webdriver.Chrome(service=ChromeService(ChromeDriverManager().install()), options=options)\n",
    "\n",
    "searching_keywords = ['교환학생', '국외파견']\n",
    "search_query = ''\n",
    "page_num = 1\n",
    "page_link = f\"https://oia.snu.ac.kr/notice-all?combine={search_query}&page={page_num}\"\n",
    "feed_template = f\"키워드 {searching_keywords}로 검색된 게시글은 다음과 같습니다. \\n\"\n",
    "\n",
    "\n",
    "\n",
    "\n",
    "page = driver.get(page_link)\n",
    "BASE_LOC = '/html/body/div/div/div/div[5]/div/div/div/div[1]/div/div/div/div[2]/div/div/div/table/tbody'\n",
    "\n",
    "not_found = True\n",
    "\n",
    "for i in range(1, 21):\n",
    "    title_loc = BASE_LOC + f'/tr[{i}]/td[1]/a'\n",
    "    block = driver.find_element(By.XPATH, title_loc)\n",
    "    title = block.text\n",
    "    href = block.get_attribute(\"href\")\n",
    "    \n",
    "    date_loc = BASE_LOC + f'/tr[{i}]/td[2]'\n",
    "    date = driver.find_element(By.XPATH, date_loc).text\n",
    "    \n",
    "    # print(f\"{title} : {href}\")\n",
    "    for keyword in searching_keywords:\n",
    "        if keyword in title:\n",
    "            feed_template += f\"[{keyword}] {date} - {title} : {href}\\n\"\n",
    "            not_found = False\n",
    "            break\n",
    "        \n",
    "print(feed_template)\n",
    "if not not_found:\n",
    "    asyncio.run(bot.send_message(text=feed_template, chat_id=CHAT_ID))\n",
    "\n"
   ]
  },
  {
   "cell_type": "code",
   "execution_count": null,
   "metadata": {},
   "outputs": [],
   "source": [
    "from bs4 import BeautifulSoup\n",
    "from datetime import date, timedelta\n",
    "import requests\n",
    "import time\n",
    "import telegram\n",
    "import yaml\n",
    "from box import Box\n",
    "\n",
    "with open('config.yaml') as f:\n",
    "    conf = yaml.load(f)\n",
    "\n",
    "TOKEN = conf.API_KEY\n",
    "CHAT_ID = conf.CHAT_ID\n",
    "# Fixed values\n",
    "\n",
    "url = \"https://teaching.korea.ac.kr/teaching/community/notice1.do\"\n",
    "\n",
    "# Telegram bot\n",
    "bot = telegram.Bot(token=TOKEN)\n",
    "\n",
    "# request, bs4\n",
    "res = requests.get(url)\n",
    "res.raise_for_status()\n",
    "soup = BeautifulSoup(res.text, \"html.parser\")\n",
    "\n",
    "\n",
    "\n",
    "# 클래스 구분이 명확하지 않은 페이지에서 공지사항 리스트(ul) 추출(사이트 구조 변경 시 수정 필요)\n",
    "toFindNotice = soup.findAll(\"ul\", attrs={\"class\": \"m\"})\n",
    "grabedNotice = toFindNotice[1]\n",
    "\n",
    "# 각 공지사항의 element에 접근하기 위해 공지사항 li elements를 리스트 자료구조로 변환\n",
    "noticeList = grabedNotice.findAll('li')\n",
    "\n",
    "# 오늘 날짜\n",
    "today = date.today().isoformat().replace('-', '.')\n",
    "\n",
    "# 공지사항 전송\n",
    "for notice in noticeList:\n",
    "    postDate = notice.span.get_text().replace('교직팀', '')\n",
    "\n",
    "    if(today == postDate):  # 오늘 게시글이 있으면\n",
    "        title = notice.a.get_text()\n",
    "        noticeUrl = 'https://teaching.korea.ac.kr/teaching/community/notice1.do' + \\\n",
    "            notice.a['href']\n",
    "        feed = f'{title}\\n\\n게시일: {postDate}\\n\\n링크: {noticeUrl}'\n",
    "\n",
    "        bot.send_message(text=feed, chat_id=CHAT_ID)\n",
    "        time.sleep(2)\n",
    "    else:\n",
    "        continue\n"
   ]
  },
  {
   "cell_type": "code",
   "execution_count": 14,
   "metadata": {},
   "outputs": [],
   "source": [
    "import pickle\n",
    "sent_titles_file_loc = \"src/SNU_CSE_NOTICE_sent_titles.pkl\"\n",
    "\n",
    "\n",
    "with open(file=sent_titles_file_loc, mode='wb') as f:\n",
    "    pickle.dump(set(), f)\n",
    "    \n",
    "    "
   ]
  },
  {
   "cell_type": "code",
   "execution_count": 12,
   "metadata": {},
   "outputs": [
    {
     "data": {
      "text/plain": [
       "3"
      ]
     },
     "execution_count": 12,
     "metadata": {},
     "output_type": "execute_result"
    }
   ],
   "source": [
    "a = 'asdasdggh'\n",
    "a[::-1].find('d')\n"
   ]
  },
  {
   "cell_type": "code",
   "execution_count": 5,
   "metadata": {},
   "outputs": [
    {
     "ename": "NameError",
     "evalue": "name '__file__' is not defined",
     "output_type": "error",
     "traceback": [
      "\u001b[1;31m---------------------------------------------------------------------------\u001b[0m",
      "\u001b[1;31mNameError\u001b[0m                                 Traceback (most recent call last)",
      "Cell \u001b[1;32mIn[5], line 3\u001b[0m\n\u001b[0;32m      1\u001b[0m \u001b[38;5;28;01mimport\u001b[39;00m \u001b[38;5;21;01mos\u001b[39;00m\n\u001b[0;32m      2\u001b[0m \u001b[38;5;66;03m#os.path.abspath(__file__)\u001b[39;00m\n\u001b[1;32m----> 3\u001b[0m \u001b[38;5;18;43m__file__\u001b[39;49m\n",
      "\u001b[1;31mNameError\u001b[0m: name '__file__' is not defined"
     ]
    }
   ],
   "source": [
    "import os\n",
    "#os.path.abspath(__file__)\n",
    "__file__"
   ]
  },
  {
   "cell_type": "code",
   "execution_count": 15,
   "metadata": {},
   "outputs": [
    {
     "ename": "ModuleNotFoundError",
     "evalue": "No module named 'NOTICE_CRAWLER'",
     "output_type": "error",
     "traceback": [
      "\u001b[1;31m---------------------------------------------------------------------------\u001b[0m",
      "\u001b[1;31mModuleNotFoundError\u001b[0m                       Traceback (most recent call last)",
      "Cell \u001b[1;32mIn[15], line 1\u001b[0m\n\u001b[1;32m----> 1\u001b[0m \u001b[38;5;28;01mfrom\u001b[39;00m \u001b[38;5;21;01mNOTICE_CRAWLER\u001b[39;00m \u001b[38;5;28;01mimport\u001b[39;00m \u001b[38;5;241m*\u001b[39m\n",
      "\u001b[1;31mModuleNotFoundError\u001b[0m: No module named 'NOTICE_CRAWLER'"
     ]
    }
   ],
   "source": [
    "from NOTICE_CRAWLER import *"
   ]
  }
 ],
 "metadata": {
  "kernelspec": {
   "display_name": "Python 3",
   "language": "python",
   "name": "python3"
  },
  "language_info": {
   "codemirror_mode": {
    "name": "ipython",
    "version": 3
   },
   "file_extension": ".py",
   "mimetype": "text/x-python",
   "name": "python",
   "nbconvert_exporter": "python",
   "pygments_lexer": "ipython3",
   "version": "3.12.5"
  }
 },
 "nbformat": 4,
 "nbformat_minor": 2
}
